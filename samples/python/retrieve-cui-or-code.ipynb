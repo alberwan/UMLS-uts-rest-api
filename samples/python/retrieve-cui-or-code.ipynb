pip install p2j
p2j retrieve-cui-or-code.py
