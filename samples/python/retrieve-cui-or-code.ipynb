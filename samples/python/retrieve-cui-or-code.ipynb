{
  "nbformat": 4,
  "nbformat_minor": 0,
  "metadata": {
    "colab": {
      "name": "Untitled",
      "provenance": [],
      "authorship_tag": "ABX9TyNgPENqN8c0O3hdwFNGHTog",
      "include_colab_link": true
    },
    "kernelspec": {
      "name": "python3",
      "display_name": "Python 3"
    }
  },
  "cells": [
    {
      "cell_type": "markdown",
      "metadata": {
        "id": "view-in-github",
        "colab_type": "text"
      },
      "source": [
        "<a href=\"https://colab.research.google.com/github/alberwan/UMLS-uts-rest-api/blob/master/samples/python/retrieve-cui-or-code.ipynb\" target=\"_parent\"><img src=\"https://colab.research.google.com/assets/colab-badge.svg\" alt=\"Open In Colab\"/></a>"
      ]
    },
    {
      "cell_type": "code",
      "metadata": {
        "id": "p6rS2Q4nQ88j",
        "colab_type": "code",
        "colab": {
          "base_uri": "https://localhost:8080/",
          "height": 50
        },
        "outputId": "1ec790fb-2711-482b-8536-5de169547547"
      },
      "source": [
        "!pip install p2j\n",
        "!p2j search-terms.py"
      ],
      "execution_count": null,
      "outputs": [
        {
          "output_type": "stream",
          "text": [
            "Requirement already satisfied: p2j in /usr/local/lib/python3.6/dist-packages (1.3.2)\n",
            "Source file not found. Specify a valid source file.\n"
          ],
          "name": "stdout"
        }
      ]
    },
    {
      "cell_type": "code",
      "metadata": {
        "id": "9NG3wZSr8emw",
        "colab_type": "code",
        "colab": {}
      },
      "source": [
        "#################################################################################################\n",
        "# usage of the script\n",
        "# usage: python retrieve-cui-or-code.py -k APIKEY -v VERSION -i IDENTIFIER -s SOURCE\n",
        "# If you do not provide the -s parameter, the script assumes you are retrieving information for a\n",
        "# known UMLS CUI\n",
        "#################################################################################################\n",
        "\n",
        "from Authentication import *\n",
        "import requests\n",
        "import json\n",
        "import argparse\n",
        "\n",
        "parser = argparse.ArgumentParser(description='process user given parameters')\n",
        "#parser.add_argument(\"-u\", \"--username\", required =  True, dest=\"username\", help = \"enter username\")\n",
        "#parser.add_argument(\"-p\", \"--password\", required =  True, dest=\"password\", help = \"enter passowrd\")\n",
        "parser.add_argument(\"-k\", \"--apikey\", required = True, dest = \"apikey\", help = \"enter api key from your UTS Profile\")\n",
        "parser.add_argument(\"-v\", \"--version\", required =  False, dest=\"version\", default = \"current\", help = \"enter version example-2015AA\")\n",
        "parser.add_argument(\"-i\", \"--identifier\", required =  True, dest=\"identifier\", help = \"enter identifier example-C0018787\")\n",
        "parser.add_argument(\"-s\", \"--source\", required =  False, dest=\"source\", help = \"enter source name if known\")\n",
        "\n",
        "args = parser.parse_args()\n",
        "\n",
        "#username = args.username\n",
        "#password = args.password\n",
        "apikey = args.apikey\n",
        "version = args.version\n",
        "identifier = args.identifier\n",
        "source = args.source\n",
        "AuthClient = Authentication(apikey)\n",
        "\n",
        "###################################\n",
        "#get TGT for our session\n",
        "###################################\n",
        "\n",
        "tgt = AuthClient.gettgt()\n",
        "uri = \"https://uts-ws.nlm.nih.gov\"\n",
        "\n",
        "try:\n",
        "   source\n",
        "except NameError:\n",
        "   source = None\n",
        "\n",
        "##if we don't specify a source vocabulary, assume we're retrieving UMLS CUIs\n",
        "if source is None:\n",
        "    content_endpoint = \"/rest/content/\"+str(version)+\"/CUI/\"+str(identifier)\n",
        "\n",
        "else:\n",
        "    content_endpoint = \"/rest/content/\"+str(version)+\"/source/\"+str(source)+\"/\"+str(identifier)\n",
        "\n",
        "##ticket is the only parameter needed for this call - paging does not come into play because we're only asking for one Json object\n",
        "query = {'ticket':AuthClient.getst(tgt)}\n",
        "r = requests.get(uri+content_endpoint,params=query)\n",
        "r.encoding = 'utf-8'\n",
        "items  = json.loads(r.text)\n",
        "jsonData = items[\"result\"]\n",
        "\n",
        "##uncomment the print statment if you want the raw json output, or you can just look at the documentation :=)\n",
        "#https://documentation.uts.nlm.nih.gov/rest/concept/index.html#sample-output\n",
        "#https://documentation.uts.nlm.nih.gov/rest/source-asserted-identifiers/index.html#sample-output\n",
        "#print (json.dumps(items, indent = 4))\n",
        "\n",
        "############################\n",
        "### Print out fields ####\n",
        "\n",
        "classType = jsonData[\"classType\"]\n",
        "name = jsonData[\"name\"]\n",
        "ui = jsonData[\"ui\"]\n",
        "AtomCount = jsonData[\"atomCount\"]\n",
        "Definitions = jsonData[\"definitions\"]\n",
        "Atoms = jsonData[\"atoms\"]\n",
        "DefaultPreferredAtom = jsonData[\"defaultPreferredAtom\"]\n",
        "\n",
        "## print out the shared data elements that are common to both the 'Concept' and 'SourceAtomCluster' class\n",
        "print (\"classType: \" + classType)\n",
        "print (\"ui: \" + ui)\n",
        "print (\"Name: \" + name)\n",
        "print (\"AtomCount: \" + str(AtomCount))\n",
        "print (\"Atoms: \" + Atoms)\n",
        "print (\"Default Preferred Atom: \" + DefaultPreferredAtom)\n",
        "\n",
        "## These data elements may or may not exist depending on what class ('Concept' or 'SourceAtomCluster') you're dealing with so we check for each one.\n",
        "try:\n",
        "   jsonData[\"definitions\"]\n",
        "   print (\"definitions: \" + jsonData[\"definitions\"])\n",
        "except:\n",
        "      pass\n",
        "\n",
        "try:\n",
        "   jsonData[\"parents\"]\n",
        "   print (\"parents: \" + jsonData[\"parents\"])\n",
        "except:\n",
        "      pass\n",
        "\n",
        "try:\n",
        "   jsonData[\"children\"]\n",
        "   print (\"children: \" + jsonData[\"children\"])\n",
        "except:\n",
        "      pass\n",
        "\n",
        "try:\n",
        "   jsonData[\"relations\"]\n",
        "   print (\"relations: \" + jsonData[\"relations\"])\n",
        "except:\n",
        "      pass\n",
        "\n",
        "try:\n",
        "   jsonData[\"descendants\"]\n",
        "   print (\"descendants: \" + jsonData[\"descendants\"])\n",
        "except:\n",
        "      pass\n",
        "\n",
        "try:\n",
        "   jsonData[\"semanticTypes\"]\n",
        "   print(\"Semantic Types:\")\n",
        "   for stys in jsonData[\"semanticTypes\"]:\n",
        "       print(\"uri: \"+ stys[\"uri\"])\n",
        "       print(\"name: \"+ stys[\"name\"])\n",
        "      \n",
        "except:\n",
        "      pass\n"
      ],
      "execution_count": null,
      "outputs": []
    }
  ]
}