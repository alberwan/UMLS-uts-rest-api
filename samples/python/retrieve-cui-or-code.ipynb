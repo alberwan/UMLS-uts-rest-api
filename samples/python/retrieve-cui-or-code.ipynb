{
  "nbformat": 4,
  "nbformat_minor": 0,
  "metadata": {
    "colab": {
      "name": "Untitled",
      "provenance": [],
      "authorship_tag": "ABX9TyMiH0JXn2Oa0raoJDK2fZWm",
      "include_colab_link": true
    },
    "kernelspec": {
      "name": "python3",
      "display_name": "Python 3"
    }
  },
  "cells": [
    {
      "cell_type": "markdown",
      "metadata": {
        "id": "view-in-github",
        "colab_type": "text"
      },
      "source": [
        "<a href=\"https://colab.research.google.com/github/alberwan/UMLS-uts-rest-api/blob/master/samples/python/retrieve-cui-or-code.ipynb\" target=\"_parent\"><img src=\"https://colab.research.google.com/assets/colab-badge.svg\" alt=\"Open In Colab\"/></a>"
      ]
    },
    {
      "cell_type": "code",
      "metadata": {
        "id": "p6rS2Q4nQ88j",
        "colab_type": "code",
        "colab": {
          "base_uri": "https://localhost:8080/",
          "height": 50
        },
        "outputId": "1ec790fb-2711-482b-8536-5de169547547"
      },
      "source": [
        "!pip install p2j\n",
        "!p2j search-terms.py"
      ],
      "execution_count": null,
      "outputs": [
        {
          "output_type": "stream",
          "text": [
            "Requirement already satisfied: p2j in /usr/local/lib/python3.6/dist-packages (1.3.2)\n",
            "Source file not found. Specify a valid source file.\n"
          ],
          "name": "stdout"
        }
      ]
    }
  ]
}